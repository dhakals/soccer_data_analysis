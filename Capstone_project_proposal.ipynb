{
 "cells": [
  {
   "cell_type": "markdown",
   "metadata": {},
   "source": [
    "# Predicting English Premier League match results with Machine Learning Model"
   ]
  },
  {
   "cell_type": "markdown",
   "metadata": {},
   "source": [
    "I have been watching the premier league since 2005, and I am obsessed with Chelsea football club (current champions league holder). Most of my weekend goes with watching the premier league, especially Chelsea. Every season, me and my friends try to predict the result for the end of the season. Although these predictions are based on some data and reasoning, they do not follow any particular logic. However, this time, using different methods and tools of data science, I try to answer the follwing questions.\n",
    "\n",
    "\n",
    "1. How many points would Chelsea accumulate at the end of this season?\n",
    "2. Would these points be sufficient to win the league?"
   ]
  },
  {
   "cell_type": "markdown",
   "metadata": {},
   "source": [
    "## Different Steps of the Proposal."
   ]
  },
  {
   "cell_type": "markdown",
   "metadata": {},
   "source": [
    "### Loading important library"
   ]
  },
  {
   "cell_type": "code",
   "execution_count": 1,
   "metadata": {},
   "outputs": [
    {
     "name": "stderr",
     "output_type": "stream",
     "text": [
      "/Users/sawrose/anaconda3/lib/python3.6/site-packages/h5py/__init__.py:36: FutureWarning: Conversion of the second argument of issubdtype from `float` to `np.floating` is deprecated. In future, it will be treated as `np.float64 == np.dtype(float).type`.\n",
      "  from ._conv import register_converters as _register_converters\n"
     ]
    }
   ],
   "source": [
    "import numpy as np # linear algebra\n",
    "import pandas as pd # data processing, CSV file I/O (e.g. pd.read_csv)\n",
    "import matplotlib.pyplot as plt\n",
    "import tensorflow as tf"
   ]
  },
  {
   "cell_type": "markdown",
   "metadata": {},
   "source": [
    "### Data Collection\n",
    "\n",
    "The data set is downloaded from\n",
    "https://www.kaggle.com/irkaal/english-premier-league-results"
   ]
  },
  {
   "cell_type": "code",
   "execution_count": 2,
   "metadata": {},
   "outputs": [
    {
     "name": "stdout",
     "output_type": "stream",
     "text": [
      "The shape of our dataset is  (10874, 23)\n"
     ]
    },
    {
     "data": {
      "text/html": [
       "<div>\n",
       "<style scoped>\n",
       "    .dataframe tbody tr th:only-of-type {\n",
       "        vertical-align: middle;\n",
       "    }\n",
       "\n",
       "    .dataframe tbody tr th {\n",
       "        vertical-align: top;\n",
       "    }\n",
       "\n",
       "    .dataframe thead th {\n",
       "        text-align: right;\n",
       "    }\n",
       "</style>\n",
       "<table border=\"1\" class=\"dataframe\">\n",
       "  <thead>\n",
       "    <tr style=\"text-align: right;\">\n",
       "      <th></th>\n",
       "      <th>Season</th>\n",
       "      <th>DateTime</th>\n",
       "      <th>HomeTeam</th>\n",
       "      <th>AwayTeam</th>\n",
       "      <th>FTHG</th>\n",
       "      <th>FTAG</th>\n",
       "      <th>FTR</th>\n",
       "      <th>HTHG</th>\n",
       "      <th>HTAG</th>\n",
       "      <th>HTR</th>\n",
       "      <th>...</th>\n",
       "      <th>HST</th>\n",
       "      <th>AST</th>\n",
       "      <th>HC</th>\n",
       "      <th>AC</th>\n",
       "      <th>HF</th>\n",
       "      <th>AF</th>\n",
       "      <th>HY</th>\n",
       "      <th>AY</th>\n",
       "      <th>HR</th>\n",
       "      <th>AR</th>\n",
       "    </tr>\n",
       "  </thead>\n",
       "  <tbody>\n",
       "    <tr>\n",
       "      <th>10869</th>\n",
       "      <td>2021</td>\n",
       "      <td>2021-10-02T17:30:00Z</td>\n",
       "      <td>Brighton</td>\n",
       "      <td>Arsenal</td>\n",
       "      <td>0</td>\n",
       "      <td>0</td>\n",
       "      <td>D</td>\n",
       "      <td>0.0</td>\n",
       "      <td>0.0</td>\n",
       "      <td>D</td>\n",
       "      <td>...</td>\n",
       "      <td>2.0</td>\n",
       "      <td>2.0</td>\n",
       "      <td>8.0</td>\n",
       "      <td>5.0</td>\n",
       "      <td>8.0</td>\n",
       "      <td>5.0</td>\n",
       "      <td>2.0</td>\n",
       "      <td>1.0</td>\n",
       "      <td>0.0</td>\n",
       "      <td>0.0</td>\n",
       "    </tr>\n",
       "    <tr>\n",
       "      <th>10870</th>\n",
       "      <td>2021</td>\n",
       "      <td>2021-10-03T14:00:00Z</td>\n",
       "      <td>Crystal Palace</td>\n",
       "      <td>Leicester</td>\n",
       "      <td>2</td>\n",
       "      <td>2</td>\n",
       "      <td>D</td>\n",
       "      <td>0.0</td>\n",
       "      <td>2.0</td>\n",
       "      <td>A</td>\n",
       "      <td>...</td>\n",
       "      <td>4.0</td>\n",
       "      <td>5.0</td>\n",
       "      <td>1.0</td>\n",
       "      <td>3.0</td>\n",
       "      <td>15.0</td>\n",
       "      <td>11.0</td>\n",
       "      <td>2.0</td>\n",
       "      <td>3.0</td>\n",
       "      <td>0.0</td>\n",
       "      <td>0.0</td>\n",
       "    </tr>\n",
       "    <tr>\n",
       "      <th>10871</th>\n",
       "      <td>2021</td>\n",
       "      <td>2021-10-03T14:00:00Z</td>\n",
       "      <td>Tottenham</td>\n",
       "      <td>Aston Villa</td>\n",
       "      <td>2</td>\n",
       "      <td>1</td>\n",
       "      <td>H</td>\n",
       "      <td>1.0</td>\n",
       "      <td>0.0</td>\n",
       "      <td>H</td>\n",
       "      <td>...</td>\n",
       "      <td>8.0</td>\n",
       "      <td>3.0</td>\n",
       "      <td>5.0</td>\n",
       "      <td>8.0</td>\n",
       "      <td>11.0</td>\n",
       "      <td>14.0</td>\n",
       "      <td>2.0</td>\n",
       "      <td>1.0</td>\n",
       "      <td>0.0</td>\n",
       "      <td>0.0</td>\n",
       "    </tr>\n",
       "    <tr>\n",
       "      <th>10872</th>\n",
       "      <td>2021</td>\n",
       "      <td>2021-10-03T14:00:00Z</td>\n",
       "      <td>West Ham</td>\n",
       "      <td>Brentford</td>\n",
       "      <td>1</td>\n",
       "      <td>2</td>\n",
       "      <td>A</td>\n",
       "      <td>0.0</td>\n",
       "      <td>1.0</td>\n",
       "      <td>A</td>\n",
       "      <td>...</td>\n",
       "      <td>5.0</td>\n",
       "      <td>6.0</td>\n",
       "      <td>11.0</td>\n",
       "      <td>6.0</td>\n",
       "      <td>16.0</td>\n",
       "      <td>13.0</td>\n",
       "      <td>2.0</td>\n",
       "      <td>3.0</td>\n",
       "      <td>0.0</td>\n",
       "      <td>0.0</td>\n",
       "    </tr>\n",
       "    <tr>\n",
       "      <th>10873</th>\n",
       "      <td>2021</td>\n",
       "      <td>2021-10-03T16:30:00Z</td>\n",
       "      <td>Liverpool</td>\n",
       "      <td>Man City</td>\n",
       "      <td>2</td>\n",
       "      <td>2</td>\n",
       "      <td>D</td>\n",
       "      <td>0.0</td>\n",
       "      <td>0.0</td>\n",
       "      <td>D</td>\n",
       "      <td>...</td>\n",
       "      <td>4.0</td>\n",
       "      <td>3.0</td>\n",
       "      <td>3.0</td>\n",
       "      <td>4.0</td>\n",
       "      <td>10.0</td>\n",
       "      <td>12.0</td>\n",
       "      <td>3.0</td>\n",
       "      <td>3.0</td>\n",
       "      <td>0.0</td>\n",
       "      <td>0.0</td>\n",
       "    </tr>\n",
       "  </tbody>\n",
       "</table>\n",
       "<p>5 rows × 23 columns</p>\n",
       "</div>"
      ],
      "text/plain": [
       "       Season              DateTime        HomeTeam     AwayTeam  FTHG  FTAG  \\\n",
       "10869    2021  2021-10-02T17:30:00Z        Brighton      Arsenal     0     0   \n",
       "10870    2021  2021-10-03T14:00:00Z  Crystal Palace    Leicester     2     2   \n",
       "10871    2021  2021-10-03T14:00:00Z       Tottenham  Aston Villa     2     1   \n",
       "10872    2021  2021-10-03T14:00:00Z        West Ham    Brentford     1     2   \n",
       "10873    2021  2021-10-03T16:30:00Z       Liverpool     Man City     2     2   \n",
       "\n",
       "      FTR  HTHG  HTAG HTR ...   HST  AST    HC   AC    HF    AF   HY   AY  \\\n",
       "10869   D   0.0   0.0   D ...   2.0  2.0   8.0  5.0   8.0   5.0  2.0  1.0   \n",
       "10870   D   0.0   2.0   A ...   4.0  5.0   1.0  3.0  15.0  11.0  2.0  3.0   \n",
       "10871   H   1.0   0.0   H ...   8.0  3.0   5.0  8.0  11.0  14.0  2.0  1.0   \n",
       "10872   A   0.0   1.0   A ...   5.0  6.0  11.0  6.0  16.0  13.0  2.0  3.0   \n",
       "10873   D   0.0   0.0   D ...   4.0  3.0   3.0  4.0  10.0  12.0  3.0  3.0   \n",
       "\n",
       "        HR   AR  \n",
       "10869  0.0  0.0  \n",
       "10870  0.0  0.0  \n",
       "10871  0.0  0.0  \n",
       "10872  0.0  0.0  \n",
       "10873  0.0  0.0  \n",
       "\n",
       "[5 rows x 23 columns]"
      ]
     },
     "execution_count": 2,
     "metadata": {},
     "output_type": "execute_result"
    }
   ],
   "source": [
    "df_result = pd.read_csv(\"results.csv\", encoding='cp949')\n",
    "\n",
    "print('The shape of our dataset is ', df_result.shape)\n",
    "df_result.Season = df_result.Season.str.extract('(\\d+)').astype(int)\n",
    "\n",
    "df_result.tail()"
   ]
  },
  {
   "cell_type": "markdown",
   "metadata": {},
   "source": [
    "### Cleaning data\n",
    "\n",
    "Cleaning data for future use. We found that the some data in referee column was missing until 2000. So we remove that data\n"
   ]
  },
  {
   "cell_type": "code",
   "execution_count": 3,
   "metadata": {},
   "outputs": [
    {
     "name": "stdout",
     "output_type": "stream",
     "text": [
      "39484\n"
     ]
    }
   ],
   "source": [
    "print( df_result.isnull().values.sum())"
   ]
  },
  {
   "cell_type": "code",
   "execution_count": 4,
   "metadata": {},
   "outputs": [],
   "source": [
    "new_data = df_result[(df_result.Season != 1993) & (df_result.Season != 1994) &\n",
    "                     (df_result.Season != 1995) & (df_result.Season != 1996) &\n",
    "                    (df_result.Season != 1997) & (df_result.Season != 1998) &\n",
    "                     (df_result.Season != 1999)&  (df_result.Season != 2021) \n",
    "                    ].reset_index().drop('index', axis=1)\n"
   ]
  },
  {
   "cell_type": "code",
   "execution_count": 5,
   "metadata": {},
   "outputs": [
    {
     "name": "stdout",
     "output_type": "stream",
     "text": [
      "0\n"
     ]
    }
   ],
   "source": [
    "print(new_data.isnull().values.sum())\n"
   ]
  },
  {
   "cell_type": "code",
   "execution_count": 6,
   "metadata": {},
   "outputs": [
    {
     "name": "stdout",
     "output_type": "stream",
     "text": [
      "<class 'pandas.core.frame.DataFrame'>\n",
      "RangeIndex: 7980 entries, 0 to 7979\n",
      "Data columns (total 23 columns):\n",
      "Season      7980 non-null int64\n",
      "DateTime    7980 non-null object\n",
      "HomeTeam    7980 non-null object\n",
      "AwayTeam    7980 non-null object\n",
      "FTHG        7980 non-null int64\n",
      "FTAG        7980 non-null int64\n",
      "FTR         7980 non-null object\n",
      "HTHG        7980 non-null float64\n",
      "HTAG        7980 non-null float64\n",
      "HTR         7980 non-null object\n",
      "Referee     7980 non-null object\n",
      "HS          7980 non-null float64\n",
      "AS          7980 non-null float64\n",
      "HST         7980 non-null float64\n",
      "AST         7980 non-null float64\n",
      "HC          7980 non-null float64\n",
      "AC          7980 non-null float64\n",
      "HF          7980 non-null float64\n",
      "AF          7980 non-null float64\n",
      "HY          7980 non-null float64\n",
      "AY          7980 non-null float64\n",
      "HR          7980 non-null float64\n",
      "AR          7980 non-null float64\n",
      "dtypes: float64(14), int64(3), object(6)\n",
      "memory usage: 1.4+ MB\n"
     ]
    }
   ],
   "source": [
    " new_data.info()"
   ]
  },
  {
   "cell_type": "markdown",
   "metadata": {},
   "source": [
    "### Exploratory Data Analysis (Input)\n",
    "1. Although, I know have played in each premier league season but to make sure, we plot the home team that has played the maximum match. We find that Chelsea together with Manchester United, Arsenal, Liverpool, Tootenham and Everton has played all the premier league matches.\n",
    "\n",
    "2. Next thing is that referee influnece the game but some referee may have died or retired so i decided not to drop the referee column from further analysis\n",
    "\n",
    "3. Only the match day effect the results not actula date. So we convert the actual date to the days of the week\n"
   ]
  },
  {
   "cell_type": "code",
   "execution_count": 7,
   "metadata": {},
   "outputs": [
    {
     "data": {
      "image/png": "[encoded data removed]",
      "text/plain": [
       "<Figure size 432x288 with 1 Axes>"
      ]
     },
     "metadata": {},
     "output_type": "display_data"
    }
   ],
   "source": [
    "# create a figure and axis \n",
    "fig, ax = plt.subplots() \n",
    "\n",
    "# count the occurrence of each class \n",
    "data =new_data['HomeTeam'].value_counts() \n",
    "# get x and y data \n",
    "points = data.index \n",
    "frequency = data.values \n",
    "# create bar chart \n",
    "ax.bar(points, frequency) \n",
    "plt.setp(ax.get_xticklabels(), rotation=90)\n",
    "# set title and labels \n",
    "ax.set_title('Number of home games for all the Premier League clubs');\n",
    "ax.set_xlabel('Home Teams');\n",
    "ax.set_ylabel('Frequency');"
   ]
  },
  {
   "cell_type": "code",
   "execution_count": 8,
   "metadata": {},
   "outputs": [
    {
     "data": {
      "text/html": [
       "<div>\n",
       "<style scoped>\n",
       "    .dataframe tbody tr th:only-of-type {\n",
       "        vertical-align: middle;\n",
       "    }\n",
       "\n",
       "    .dataframe tbody tr th {\n",
       "        vertical-align: top;\n",
       "    }\n",
       "\n",
       "    .dataframe thead th {\n",
       "        text-align: right;\n",
       "    }\n",
       "</style>\n",
       "<table border=\"1\" class=\"dataframe\">\n",
       "  <thead>\n",
       "    <tr style=\"text-align: right;\">\n",
       "      <th></th>\n",
       "      <th>DateTime</th>\n",
       "      <th>HomeTeam</th>\n",
       "      <th>AwayTeam</th>\n",
       "      <th>FTHG</th>\n",
       "      <th>FTAG</th>\n",
       "      <th>FTR</th>\n",
       "      <th>HTHG</th>\n",
       "      <th>HTAG</th>\n",
       "      <th>HTR</th>\n",
       "      <th>HS</th>\n",
       "      <th>...</th>\n",
       "      <th>HST</th>\n",
       "      <th>AST</th>\n",
       "      <th>HC</th>\n",
       "      <th>AC</th>\n",
       "      <th>HF</th>\n",
       "      <th>AF</th>\n",
       "      <th>HY</th>\n",
       "      <th>AY</th>\n",
       "      <th>HR</th>\n",
       "      <th>AR</th>\n",
       "    </tr>\n",
       "  </thead>\n",
       "  <tbody>\n",
       "    <tr>\n",
       "      <th>0</th>\n",
       "      <td>2000-08-19T00:00:00Z</td>\n",
       "      <td>Charlton</td>\n",
       "      <td>Man City</td>\n",
       "      <td>4</td>\n",
       "      <td>0</td>\n",
       "      <td>H</td>\n",
       "      <td>2.0</td>\n",
       "      <td>0.0</td>\n",
       "      <td>H</td>\n",
       "      <td>17.0</td>\n",
       "      <td>...</td>\n",
       "      <td>14.0</td>\n",
       "      <td>4.0</td>\n",
       "      <td>6.0</td>\n",
       "      <td>6.0</td>\n",
       "      <td>13.0</td>\n",
       "      <td>12.0</td>\n",
       "      <td>1.0</td>\n",
       "      <td>2.0</td>\n",
       "      <td>0.0</td>\n",
       "      <td>0.0</td>\n",
       "    </tr>\n",
       "    <tr>\n",
       "      <th>1</th>\n",
       "      <td>2000-08-19T00:00:00Z</td>\n",
       "      <td>Chelsea</td>\n",
       "      <td>West Ham</td>\n",
       "      <td>4</td>\n",
       "      <td>2</td>\n",
       "      <td>H</td>\n",
       "      <td>1.0</td>\n",
       "      <td>0.0</td>\n",
       "      <td>H</td>\n",
       "      <td>17.0</td>\n",
       "      <td>...</td>\n",
       "      <td>10.0</td>\n",
       "      <td>5.0</td>\n",
       "      <td>7.0</td>\n",
       "      <td>7.0</td>\n",
       "      <td>19.0</td>\n",
       "      <td>14.0</td>\n",
       "      <td>1.0</td>\n",
       "      <td>2.0</td>\n",
       "      <td>0.0</td>\n",
       "      <td>0.0</td>\n",
       "    </tr>\n",
       "    <tr>\n",
       "      <th>2</th>\n",
       "      <td>2000-08-19T00:00:00Z</td>\n",
       "      <td>Coventry</td>\n",
       "      <td>Middlesbrough</td>\n",
       "      <td>1</td>\n",
       "      <td>3</td>\n",
       "      <td>A</td>\n",
       "      <td>1.0</td>\n",
       "      <td>1.0</td>\n",
       "      <td>D</td>\n",
       "      <td>6.0</td>\n",
       "      <td>...</td>\n",
       "      <td>3.0</td>\n",
       "      <td>9.0</td>\n",
       "      <td>8.0</td>\n",
       "      <td>4.0</td>\n",
       "      <td>15.0</td>\n",
       "      <td>21.0</td>\n",
       "      <td>5.0</td>\n",
       "      <td>3.0</td>\n",
       "      <td>1.0</td>\n",
       "      <td>0.0</td>\n",
       "    </tr>\n",
       "    <tr>\n",
       "      <th>3</th>\n",
       "      <td>2000-08-19T00:00:00Z</td>\n",
       "      <td>Derby</td>\n",
       "      <td>Southampton</td>\n",
       "      <td>2</td>\n",
       "      <td>2</td>\n",
       "      <td>D</td>\n",
       "      <td>1.0</td>\n",
       "      <td>2.0</td>\n",
       "      <td>A</td>\n",
       "      <td>6.0</td>\n",
       "      <td>...</td>\n",
       "      <td>4.0</td>\n",
       "      <td>6.0</td>\n",
       "      <td>5.0</td>\n",
       "      <td>8.0</td>\n",
       "      <td>11.0</td>\n",
       "      <td>13.0</td>\n",
       "      <td>1.0</td>\n",
       "      <td>1.0</td>\n",
       "      <td>0.0</td>\n",
       "      <td>0.0</td>\n",
       "    </tr>\n",
       "    <tr>\n",
       "      <th>4</th>\n",
       "      <td>2000-08-19T00:00:00Z</td>\n",
       "      <td>Leeds</td>\n",
       "      <td>Everton</td>\n",
       "      <td>2</td>\n",
       "      <td>0</td>\n",
       "      <td>H</td>\n",
       "      <td>2.0</td>\n",
       "      <td>0.0</td>\n",
       "      <td>H</td>\n",
       "      <td>17.0</td>\n",
       "      <td>...</td>\n",
       "      <td>8.0</td>\n",
       "      <td>6.0</td>\n",
       "      <td>6.0</td>\n",
       "      <td>4.0</td>\n",
       "      <td>21.0</td>\n",
       "      <td>20.0</td>\n",
       "      <td>1.0</td>\n",
       "      <td>3.0</td>\n",
       "      <td>0.0</td>\n",
       "      <td>0.0</td>\n",
       "    </tr>\n",
       "  </tbody>\n",
       "</table>\n",
       "<p>5 rows × 21 columns</p>\n",
       "</div>"
      ],
      "text/plain": [
       "               DateTime  HomeTeam       AwayTeam  FTHG  FTAG FTR  HTHG  HTAG  \\\n",
       "0  2000-08-19T00:00:00Z  Charlton       Man City     4     0   H   2.0   0.0   \n",
       "1  2000-08-19T00:00:00Z   Chelsea       West Ham     4     2   H   1.0   0.0   \n",
       "2  2000-08-19T00:00:00Z  Coventry  Middlesbrough     1     3   A   1.0   1.0   \n",
       "3  2000-08-19T00:00:00Z     Derby    Southampton     2     2   D   1.0   2.0   \n",
       "4  2000-08-19T00:00:00Z     Leeds        Everton     2     0   H   2.0   0.0   \n",
       "\n",
       "  HTR    HS ...    HST  AST   HC   AC    HF    AF   HY   AY   HR   AR  \n",
       "0   H  17.0 ...   14.0  4.0  6.0  6.0  13.0  12.0  1.0  2.0  0.0  0.0  \n",
       "1   H  17.0 ...   10.0  5.0  7.0  7.0  19.0  14.0  1.0  2.0  0.0  0.0  \n",
       "2   D   6.0 ...    3.0  9.0  8.0  4.0  15.0  21.0  5.0  3.0  1.0  0.0  \n",
       "3   A   6.0 ...    4.0  6.0  5.0  8.0  11.0  13.0  1.0  1.0  0.0  0.0  \n",
       "4   H  17.0 ...    8.0  6.0  6.0  4.0  21.0  20.0  1.0  3.0  0.0  0.0  \n",
       "\n",
       "[5 rows x 21 columns]"
      ]
     },
     "execution_count": 8,
     "metadata": {},
     "output_type": "execute_result"
    }
   ],
   "source": [
    "pl_data = new_data.copy()\n",
    "pl_data.drop(['Referee'], axis=1, inplace=True)\n",
    "pl_data.drop(['Season'], axis=1, inplace=True)\n",
    "pl_data.head()"
   ]
  },
  {
   "cell_type": "code",
   "execution_count": 9,
   "metadata": {},
   "outputs": [],
   "source": [
    "#converting match date day of the week\n",
    "\n",
    "pl_data[\"matchDate\"] = pd.to_datetime(pl_data[\"DateTime\"], infer_datetime_format=True)\n",
    "pl_data['MatchDay'] = pl_data['matchDate'].dt.day_name()\n",
    "\n",
    "\n",
    "\n",
    "pl_data.drop('DateTime', axis=1, inplace=True)\n",
    "pl_data.drop('matchDate', axis=1, inplace=True)\n",
    "\n",
    "\n"
   ]
  },
  {
   "cell_type": "markdown",
   "metadata": {},
   "source": [
    "4. Next thing we wanted to check whether the Home team and away team feature is significant. If it is significant, we need to convert them to binary numbers. We find, as shown below, that home team has lot of wins. So by using dummies we convert object to numeric data"
   ]
  },
  {
   "cell_type": "code",
   "execution_count": 10,
   "metadata": {},
   "outputs": [
    {
     "data": {
      "image/png": "[encoded data removed]",
      "text/plain": [
       "<Figure size 432x288 with 1 Axes>"
      ]
     },
     "metadata": {},
     "output_type": "display_data"
    }
   ],
   "source": [
    "fig, chart = plt.subplots() \n",
    "data = pl_data['FTR'].value_counts() \n",
    "\n",
    "points = data.index \n",
    "frequency = data.values \n",
    "\n",
    "chart.bar(points, frequency)\n",
    "\n",
    "chart.set_title('Frequency of different results in the Premier League) '); \n",
    "chart.set_xlabel('Result Type'); \n",
    "chart.set_ylabel('Frequency');"
   ]
  },
  {
   "cell_type": "code",
   "execution_count": 11,
   "metadata": {},
   "outputs": [],
   "source": [
    "pl_data = pd.get_dummies(pl_data, columns=['HomeTeam'], prefix = ['HomeTeam'])\n",
    "pl_data = pd.get_dummies(pl_data, columns=['AwayTeam'], prefix = ['AwayTeam'])\n",
    "pl_data = pd.get_dummies(pl_data, columns=['HTR'], prefix = ['HTR'])\n",
    "pl_data = pd.get_dummies(pl_data, columns=['MatchDay'], prefix = ['MatchDay'])\n"
   ]
  },
  {
   "cell_type": "code",
   "execution_count": 12,
   "metadata": {},
   "outputs": [
    {
     "data": {
      "text/html": [
       "<div>\n",
       "<style scoped>\n",
       "    .dataframe tbody tr th:only-of-type {\n",
       "        vertical-align: middle;\n",
       "    }\n",
       "\n",
       "    .dataframe tbody tr th {\n",
       "        vertical-align: top;\n",
       "    }\n",
       "\n",
       "    .dataframe thead th {\n",
       "        text-align: right;\n",
       "    }\n",
       "</style>\n",
       "<table border=\"1\" class=\"dataframe\">\n",
       "  <thead>\n",
       "    <tr style=\"text-align: right;\">\n",
       "      <th></th>\n",
       "      <th>FTHG</th>\n",
       "      <th>FTAG</th>\n",
       "      <th>FTR</th>\n",
       "      <th>HTHG</th>\n",
       "      <th>HTAG</th>\n",
       "      <th>HS</th>\n",
       "      <th>AS</th>\n",
       "      <th>HST</th>\n",
       "      <th>AST</th>\n",
       "      <th>HC</th>\n",
       "      <th>...</th>\n",
       "      <th>HTR_A</th>\n",
       "      <th>HTR_D</th>\n",
       "      <th>HTR_H</th>\n",
       "      <th>MatchDay_Friday</th>\n",
       "      <th>MatchDay_Monday</th>\n",
       "      <th>MatchDay_Saturday</th>\n",
       "      <th>MatchDay_Sunday</th>\n",
       "      <th>MatchDay_Thursday</th>\n",
       "      <th>MatchDay_Tuesday</th>\n",
       "      <th>MatchDay_Wednesday</th>\n",
       "    </tr>\n",
       "  </thead>\n",
       "  <tbody>\n",
       "    <tr>\n",
       "      <th>0</th>\n",
       "      <td>4</td>\n",
       "      <td>0</td>\n",
       "      <td>H</td>\n",
       "      <td>2.0</td>\n",
       "      <td>0.0</td>\n",
       "      <td>17.0</td>\n",
       "      <td>8.0</td>\n",
       "      <td>14.0</td>\n",
       "      <td>4.0</td>\n",
       "      <td>6.0</td>\n",
       "      <td>...</td>\n",
       "      <td>0</td>\n",
       "      <td>0</td>\n",
       "      <td>1</td>\n",
       "      <td>0</td>\n",
       "      <td>0</td>\n",
       "      <td>1</td>\n",
       "      <td>0</td>\n",
       "      <td>0</td>\n",
       "      <td>0</td>\n",
       "      <td>0</td>\n",
       "    </tr>\n",
       "    <tr>\n",
       "      <th>1</th>\n",
       "      <td>4</td>\n",
       "      <td>2</td>\n",
       "      <td>H</td>\n",
       "      <td>1.0</td>\n",
       "      <td>0.0</td>\n",
       "      <td>17.0</td>\n",
       "      <td>12.0</td>\n",
       "      <td>10.0</td>\n",
       "      <td>5.0</td>\n",
       "      <td>7.0</td>\n",
       "      <td>...</td>\n",
       "      <td>0</td>\n",
       "      <td>0</td>\n",
       "      <td>1</td>\n",
       "      <td>0</td>\n",
       "      <td>0</td>\n",
       "      <td>1</td>\n",
       "      <td>0</td>\n",
       "      <td>0</td>\n",
       "      <td>0</td>\n",
       "      <td>0</td>\n",
       "    </tr>\n",
       "    <tr>\n",
       "      <th>2</th>\n",
       "      <td>1</td>\n",
       "      <td>3</td>\n",
       "      <td>A</td>\n",
       "      <td>1.0</td>\n",
       "      <td>1.0</td>\n",
       "      <td>6.0</td>\n",
       "      <td>16.0</td>\n",
       "      <td>3.0</td>\n",
       "      <td>9.0</td>\n",
       "      <td>8.0</td>\n",
       "      <td>...</td>\n",
       "      <td>0</td>\n",
       "      <td>1</td>\n",
       "      <td>0</td>\n",
       "      <td>0</td>\n",
       "      <td>0</td>\n",
       "      <td>1</td>\n",
       "      <td>0</td>\n",
       "      <td>0</td>\n",
       "      <td>0</td>\n",
       "      <td>0</td>\n",
       "    </tr>\n",
       "    <tr>\n",
       "      <th>3</th>\n",
       "      <td>2</td>\n",
       "      <td>2</td>\n",
       "      <td>D</td>\n",
       "      <td>1.0</td>\n",
       "      <td>2.0</td>\n",
       "      <td>6.0</td>\n",
       "      <td>13.0</td>\n",
       "      <td>4.0</td>\n",
       "      <td>6.0</td>\n",
       "      <td>5.0</td>\n",
       "      <td>...</td>\n",
       "      <td>1</td>\n",
       "      <td>0</td>\n",
       "      <td>0</td>\n",
       "      <td>0</td>\n",
       "      <td>0</td>\n",
       "      <td>1</td>\n",
       "      <td>0</td>\n",
       "      <td>0</td>\n",
       "      <td>0</td>\n",
       "      <td>0</td>\n",
       "    </tr>\n",
       "    <tr>\n",
       "      <th>4</th>\n",
       "      <td>2</td>\n",
       "      <td>0</td>\n",
       "      <td>H</td>\n",
       "      <td>2.0</td>\n",
       "      <td>0.0</td>\n",
       "      <td>17.0</td>\n",
       "      <td>12.0</td>\n",
       "      <td>8.0</td>\n",
       "      <td>6.0</td>\n",
       "      <td>6.0</td>\n",
       "      <td>...</td>\n",
       "      <td>0</td>\n",
       "      <td>0</td>\n",
       "      <td>1</td>\n",
       "      <td>0</td>\n",
       "      <td>0</td>\n",
       "      <td>1</td>\n",
       "      <td>0</td>\n",
       "      <td>0</td>\n",
       "      <td>0</td>\n",
       "      <td>0</td>\n",
       "    </tr>\n",
       "  </tbody>\n",
       "</table>\n",
       "<p>5 rows × 113 columns</p>\n",
       "</div>"
      ],
      "text/plain": [
       "   FTHG  FTAG FTR  HTHG  HTAG    HS    AS   HST  AST   HC         ...          \\\n",
       "0     4     0   H   2.0   0.0  17.0   8.0  14.0  4.0  6.0         ...           \n",
       "1     4     2   H   1.0   0.0  17.0  12.0  10.0  5.0  7.0         ...           \n",
       "2     1     3   A   1.0   1.0   6.0  16.0   3.0  9.0  8.0         ...           \n",
       "3     2     2   D   1.0   2.0   6.0  13.0   4.0  6.0  5.0         ...           \n",
       "4     2     0   H   2.0   0.0  17.0  12.0   8.0  6.0  6.0         ...           \n",
       "\n",
       "   HTR_A  HTR_D  HTR_H  MatchDay_Friday  MatchDay_Monday  MatchDay_Saturday  \\\n",
       "0      0      0      1                0                0                  1   \n",
       "1      0      0      1                0                0                  1   \n",
       "2      0      1      0                0                0                  1   \n",
       "3      1      0      0                0                0                  1   \n",
       "4      0      0      1                0                0                  1   \n",
       "\n",
       "   MatchDay_Sunday  MatchDay_Thursday  MatchDay_Tuesday  MatchDay_Wednesday  \n",
       "0                0                  0                 0                   0  \n",
       "1                0                  0                 0                   0  \n",
       "2                0                  0                 0                   0  \n",
       "3                0                  0                 0                   0  \n",
       "4                0                  0                 0                   0  \n",
       "\n",
       "[5 rows x 113 columns]"
      ]
     },
     "execution_count": 12,
     "metadata": {},
     "output_type": "execute_result"
    }
   ],
   "source": [
    "pl_data.head()"
   ]
  },
  {
   "cell_type": "markdown",
   "metadata": {},
   "source": [
    "### Exploratory Data Analysis (Output label)\n",
    "Now we see the full time results is H A or D meaning HomeTeam win, AwayTeam win or Draw so we convert them using label encoder"
   ]
  },
  {
   "cell_type": "code",
   "execution_count": 13,
   "metadata": {},
   "outputs": [
    {
     "name": "stdout",
     "output_type": "stream",
     "text": [
      "Unique values for our label are:  [2 0 1]\n",
      "if the home team wins the label is  2\n",
      "if the away team wins the label is  0\n",
      "if there is a tie the label is  1\n"
     ]
    }
   ],
   "source": [
    "from sklearn.preprocessing import LabelEncoder\n",
    "label_encoder = LabelEncoder()\n",
    "pl_data['FTR']= label_encoder.fit_transform(pl_data['FTR'])\n",
    "print('Unique values for our label are: ', pl_data['FTR'].unique())\n",
    "print('if the home team wins the label is ', pl_data['FTR'][0])\n",
    "print('if the away team wins the label is ', pl_data['FTR'][2])\n",
    "print('if there is a tie the label is ', pl_data['FTR'][3])\n",
    "\n"
   ]
  },
  {
   "cell_type": "markdown",
   "metadata": {},
   "source": [
    "### Setting label and features"
   ]
  },
  {
   "cell_type": "code",
   "execution_count": 14,
   "metadata": {},
   "outputs": [],
   "source": [
    "label = pl_data['FTR']\n",
    "\n",
    "features = pl_data.iloc[:,3:113]"
   ]
  },
  {
   "cell_type": "markdown",
   "metadata": {},
   "source": [
    "### Train (2/3) and Test Data (1/3)"
   ]
  },
  {
   "cell_type": "code",
   "execution_count": 15,
   "metadata": {},
   "outputs": [
    {
     "name": "stdout",
     "output_type": "stream",
     "text": [
      "The shape of X_train is (5346, 110)\n",
      "The size of y_train is (5346,)\n",
      "The size of X_test set is (2634, 110)\n",
      "The size of y_test is (2634,)\n"
     ]
    }
   ],
   "source": [
    "from sklearn.model_selection import train_test_split\n",
    "\n",
    "y=np.ravel(label)\n",
    "X = features\n",
    "\n",
    "\n",
    "X_train, X_test, y_train, y_test = train_test_split(X, y, test_size=0.33, shuffle=False)\n",
    "print(\"The shape of X_train is \" + str(X_train.shape))\n",
    "print(\"The size of y_train is \" + str(y_train.shape))\n",
    "print(\"The size of X_test set is \" + str(X_test.shape))\n",
    "print(\"The size of y_test is \" + str(y_test.shape))"
   ]
  },
  {
   "cell_type": "code",
   "execution_count": 16,
   "metadata": {},
   "outputs": [],
   "source": [
    "from sklearn.ensemble import RandomForestClassifier\n",
    "from sklearn.metrics import accuracy_score\n",
    "from sklearn.metrics import confusion_matrix\n",
    "from sklearn.metrics import plot_confusion_matrix\n",
    "from sklearn.metrics import RocCurveDisplay\n",
    "from sklearn.metrics import roc_curve"
   ]
  },
  {
   "cell_type": "code",
   "execution_count": 17,
   "metadata": {},
   "outputs": [
    {
     "name": "stdout",
     "output_type": "stream",
     "text": [
      "Accuracy: 0.646\n"
     ]
    },
    {
     "data": {
      "image/png": "[encoded data removed]",
      "text/plain": [
       "<Figure size 432x288 with 2 Axes>"
      ]
     },
     "metadata": {},
     "output_type": "display_data"
    }
   ],
   "source": [
    "model = RandomForestClassifier(random_state=1)\n",
    "model.fit(X_train, y_train)\n",
    "# make predictions\n",
    "yhat = model.predict(X_test)\n",
    "# evaluate predictions\n",
    "acc = accuracy_score(y_test, yhat)\n",
    "print('Accuracy: %.3f' % acc)\n",
    "plot_confusion_matrix(model, X_test, y_test)  \n",
    "plt.show()"
   ]
  },
  {
   "cell_type": "code",
   "execution_count": 18,
   "metadata": {},
   "outputs": [
    {
     "data": {
      "image/png": "[encoded data removed]",
      "text/plain": [
       "<Figure size 432x288 with 1 Axes>"
      ]
     },
     "metadata": {},
     "output_type": "display_data"
    }
   ],
   "source": [
    "fpr, tpr, _ = roc_curve(y_test, yhat, pos_label=model.classes_[1])\n",
    "roc_display = RocCurveDisplay(fpr=fpr, tpr=tpr).plot()"
   ]
  },
  {
   "cell_type": "markdown",
   "metadata": {},
   "source": [
    "# Neural network using tensorflow and keras"
   ]
  },
  {
   "cell_type": "code",
   "execution_count": 19,
   "metadata": {},
   "outputs": [],
   "source": [
    "y_train = tf.keras.utils.to_categorical(y_train, num_classes=3)\n",
    "y_test = tf.keras.utils.to_categorical(y_test, num_classes=3)"
   ]
  },
  {
   "cell_type": "code",
   "execution_count": 20,
   "metadata": {},
   "outputs": [
    {
     "name": "stdout",
     "output_type": "stream",
     "text": [
      "_________________________________________________________________\n",
      "Layer (type)                 Output Shape              Param #   \n",
      "=================================================================\n",
      "dense (Dense)                (None, 330)               36630     \n",
      "_________________________________________________________________\n",
      "dense_1 (Dense)              (None, 10)                3310      \n",
      "_________________________________________________________________\n",
      "dense_2 (Dense)              (None, 3)                 33        \n",
      "=================================================================\n",
      "Total params: 39,973\n",
      "Trainable params: 39,973\n",
      "Non-trainable params: 0\n",
      "_________________________________________________________________\n"
     ]
    }
   ],
   "source": [
    "model = tf.keras.models.Sequential([\n",
    "tf.keras.layers.Dense(330, input_dim=110, activation='relu'),\n",
    "tf.keras.layers.Dense(10, input_dim=330, activation='relu'),\n",
    "tf.keras.layers.Dense(3,activation='softmax')\n",
    "])\n",
    "model.summary()\n",
    "model.compile(loss = 'categorical_crossentropy', optimizer='adam', metrics=['accuracy'])"
   ]
  },
  {
   "cell_type": "code",
   "execution_count": 21,
   "metadata": {},
   "outputs": [
    {
     "name": "stdout",
     "output_type": "stream",
     "text": [
      "Epoch 1/100\n",
      "5346/5346 [==============================] - 1s 217us/step - loss: 0.8997 - acc: 0.5847\n",
      "Epoch 2/100\n",
      "5346/5346 [==============================] - 1s 122us/step - loss: 0.7795 - acc: 0.6382\n",
      "Epoch 3/100\n",
      "5346/5346 [==============================] - 1s 132us/step - loss: 0.7723 - acc: 0.6425\n",
      "Epoch 4/100\n",
      "5346/5346 [==============================] - 1s 127us/step - loss: 0.7701 - acc: 0.6444\n",
      "Epoch 5/100\n",
      "5346/5346 [==============================] - 1s 164us/step - loss: 0.7584 - acc: 0.6515\n",
      "Epoch 6/100\n",
      "5346/5346 [==============================] - 1s 106us/step - loss: 0.7541 - acc: 0.6483\n",
      "Epoch 7/100\n",
      "5346/5346 [==============================] - 1s 150us/step - loss: 0.7641 - acc: 0.6440\n",
      "Epoch 8/100\n",
      "5346/5346 [==============================] - 0s 84us/step - loss: 0.7618 - acc: 0.6442\n",
      "Epoch 9/100\n",
      "5346/5346 [==============================] - 0s 63us/step - loss: 0.7469 - acc: 0.6506\n",
      "Epoch 10/100\n",
      "5346/5346 [==============================] - 0s 67us/step - loss: 0.7367 - acc: 0.6508\n",
      "Epoch 11/100\n",
      "5346/5346 [==============================] - 0s 63us/step - loss: 0.7275 - acc: 0.6605\n",
      "Epoch 12/100\n",
      "5346/5346 [==============================] - 0s 64us/step - loss: 0.7222 - acc: 0.6635\n",
      "Epoch 13/100\n",
      "5346/5346 [==============================] - 0s 66us/step - loss: 0.7226 - acc: 0.6680\n",
      "Epoch 14/100\n",
      "5346/5346 [==============================] - 0s 67us/step - loss: 0.7186 - acc: 0.6717\n",
      "Epoch 15/100\n",
      "5346/5346 [==============================] - 0s 65us/step - loss: 0.7114 - acc: 0.6771\n",
      "Epoch 16/100\n",
      "5346/5346 [==============================] - 0s 68us/step - loss: 0.7028 - acc: 0.6775\n",
      "Epoch 17/100\n",
      "5346/5346 [==============================] - 0s 66us/step - loss: 0.6949 - acc: 0.6818\n",
      "Epoch 18/100\n",
      "5346/5346 [==============================] - 0s 67us/step - loss: 0.6843 - acc: 0.6915\n",
      "Epoch 19/100\n",
      "5346/5346 [==============================] - 0s 73us/step - loss: 0.6816 - acc: 0.6842\n",
      "Epoch 20/100\n",
      "5346/5346 [==============================] - 0s 69us/step - loss: 0.6668 - acc: 0.6945\n",
      "Epoch 21/100\n",
      "5346/5346 [==============================] - 0s 70us/step - loss: 0.6622 - acc: 0.6996\n",
      "Epoch 22/100\n",
      "5346/5346 [==============================] - 0s 73us/step - loss: 0.6574 - acc: 0.7000\n",
      "Epoch 23/100\n",
      "5346/5346 [==============================] - 0s 70us/step - loss: 0.6472 - acc: 0.7097\n",
      "Epoch 24/100\n",
      "5346/5346 [==============================] - 0s 70us/step - loss: 0.6389 - acc: 0.7091\n",
      "Epoch 25/100\n",
      "5346/5346 [==============================] - 0s 74us/step - loss: 0.6363 - acc: 0.7129\n",
      "Epoch 26/100\n",
      "5346/5346 [==============================] - 0s 70us/step - loss: 0.6147 - acc: 0.7196\n",
      "Epoch 27/100\n",
      "5346/5346 [==============================] - 0s 73us/step - loss: 0.6056 - acc: 0.7327\n",
      "Epoch 28/100\n",
      "5346/5346 [==============================] - 0s 74us/step - loss: 0.6038 - acc: 0.7252\n",
      "Epoch 29/100\n",
      "5346/5346 [==============================] - 0s 72us/step - loss: 0.5845 - acc: 0.7385\n",
      "Epoch 30/100\n",
      "5346/5346 [==============================] - 0s 75us/step - loss: 0.5789 - acc: 0.7424\n",
      "Epoch 31/100\n",
      "5346/5346 [==============================] - 0s 77us/step - loss: 0.5776 - acc: 0.7407\n",
      "Epoch 32/100\n",
      "5346/5346 [==============================] - 0s 75us/step - loss: 0.5531 - acc: 0.7604\n",
      "Epoch 33/100\n",
      "5346/5346 [==============================] - 0s 76us/step - loss: 0.5659 - acc: 0.7465\n",
      "Epoch 34/100\n",
      "5346/5346 [==============================] - 0s 84us/step - loss: 0.5252 - acc: 0.7763\n",
      "Epoch 35/100\n",
      "5346/5346 [==============================] - 0s 76us/step - loss: 0.5286 - acc: 0.7662\n",
      "Epoch 36/100\n",
      "5346/5346 [==============================] - 0s 84us/step - loss: 0.5109 - acc: 0.7782\n",
      "Epoch 37/100\n",
      "5346/5346 [==============================] - 0s 80us/step - loss: 0.5000 - acc: 0.7823\n",
      "Epoch 38/100\n",
      "5346/5346 [==============================] - 0s 73us/step - loss: 0.4841 - acc: 0.7946\n",
      "Epoch 39/100\n",
      "5346/5346 [==============================] - 0s 78us/step - loss: 0.4806 - acc: 0.7941\n",
      "Epoch 40/100\n",
      "5346/5346 [==============================] - 0s 76us/step - loss: 0.4624 - acc: 0.8131\n",
      "Epoch 41/100\n",
      "5346/5346 [==============================] - 0s 73us/step - loss: 0.4506 - acc: 0.8092\n",
      "Epoch 42/100\n",
      "5346/5346 [==============================] - 0s 83us/step - loss: 0.4377 - acc: 0.8195: 0s - loss: 0.4358 - acc: 0.821\n",
      "Epoch 43/100\n",
      "5346/5346 [==============================] - 0s 77us/step - loss: 0.4443 - acc: 0.8165\n",
      "Epoch 44/100\n",
      "5346/5346 [==============================] - 0s 77us/step - loss: 0.4094 - acc: 0.8365\n",
      "Epoch 45/100\n",
      "5346/5346 [==============================] - 0s 76us/step - loss: 0.3921 - acc: 0.8431\n",
      "Epoch 46/100\n",
      "5346/5346 [==============================] - 0s 75us/step - loss: 0.3841 - acc: 0.8459\n",
      "Epoch 47/100\n",
      "5346/5346 [==============================] - 0s 79us/step - loss: 0.3779 - acc: 0.8479\n",
      "Epoch 48/100\n",
      "5346/5346 [==============================] - 0s 76us/step - loss: 0.3630 - acc: 0.8545\n",
      "Epoch 49/100\n",
      "5346/5346 [==============================] - 0s 73us/step - loss: 0.3763 - acc: 0.8489\n",
      "Epoch 50/100\n",
      "5346/5346 [==============================] - 0s 86us/step - loss: 0.3440 - acc: 0.8649\n",
      "Epoch 51/100\n",
      "5346/5346 [==============================] - 0s 77us/step - loss: 0.3211 - acc: 0.8807\n",
      "Epoch 52/100\n",
      "5346/5346 [==============================] - 0s 78us/step - loss: 0.3435 - acc: 0.8666\n",
      "Epoch 53/100\n",
      "5346/5346 [==============================] - 0s 77us/step - loss: 0.3198 - acc: 0.8749\n",
      "Epoch 54/100\n",
      "5346/5346 [==============================] - 0s 62us/step - loss: 0.2925 - acc: 0.8923\n",
      "Epoch 55/100\n",
      "5346/5346 [==============================] - 0s 65us/step - loss: 0.2952 - acc: 0.8924\n",
      "Epoch 56/100\n",
      "5346/5346 [==============================] - 0s 61us/step - loss: 0.2823 - acc: 0.9007\n",
      "Epoch 57/100\n",
      "5346/5346 [==============================] - 0s 62us/step - loss: 0.2620 - acc: 0.9059\n",
      "Epoch 58/100\n",
      "5346/5346 [==============================] - 0s 62us/step - loss: 0.2540 - acc: 0.9072\n",
      "Epoch 59/100\n",
      "5346/5346 [==============================] - 0s 64us/step - loss: 0.2626 - acc: 0.9003\n",
      "Epoch 60/100\n",
      "5346/5346 [==============================] - 0s 65us/step - loss: 0.2397 - acc: 0.9149\n",
      "Epoch 61/100\n",
      "5346/5346 [==============================] - 0s 64us/step - loss: 0.2229 - acc: 0.9229\n",
      "Epoch 62/100\n",
      "5346/5346 [==============================] - 0s 66us/step - loss: 0.2298 - acc: 0.9158\n",
      "Epoch 63/100\n",
      "5346/5346 [==============================] - 0s 63us/step - loss: 0.2293 - acc: 0.9188\n",
      "Epoch 64/100\n",
      "5346/5346 [==============================] - 0s 63us/step - loss: 0.1942 - acc: 0.9379\n",
      "Epoch 65/100\n",
      "5346/5346 [==============================] - 0s 65us/step - loss: 0.2000 - acc: 0.9317\n",
      "Epoch 66/100\n",
      "5346/5346 [==============================] - 0s 63us/step - loss: 0.1798 - acc: 0.9401\n",
      "Epoch 67/100\n",
      "5346/5346 [==============================] - 0s 63us/step - loss: 0.1666 - acc: 0.9484\n",
      "Epoch 68/100\n",
      "5346/5346 [==============================] - 0s 64us/step - loss: 0.1643 - acc: 0.9480\n",
      "Epoch 69/100\n",
      "5346/5346 [==============================] - 0s 64us/step - loss: 0.1565 - acc: 0.9510\n",
      "Epoch 70/100\n",
      "5346/5346 [==============================] - 0s 63us/step - loss: 0.1431 - acc: 0.9581\n",
      "Epoch 71/100\n",
      "5346/5346 [==============================] - 0s 62us/step - loss: 0.1441 - acc: 0.9568\n",
      "Epoch 72/100\n",
      "5346/5346 [==============================] - 0s 66us/step - loss: 0.2403 - acc: 0.9098\n",
      "Epoch 73/100\n",
      "5346/5346 [==============================] - 0s 63us/step - loss: 0.1314 - acc: 0.9605\n",
      "Epoch 74/100\n",
      "5346/5346 [==============================] - 0s 64us/step - loss: 0.1167 - acc: 0.9693\n",
      "Epoch 75/100\n",
      "5346/5346 [==============================] - 0s 68us/step - loss: 0.1384 - acc: 0.9553\n",
      "Epoch 76/100\n",
      "5346/5346 [==============================] - 0s 77us/step - loss: 0.1072 - acc: 0.9723\n",
      "Epoch 77/100\n",
      "5346/5346 [==============================] - 0s 66us/step - loss: 0.0987 - acc: 0.9764\n",
      "Epoch 78/100\n",
      "5346/5346 [==============================] - 0s 67us/step - loss: 0.1135 - acc: 0.9650\n",
      "Epoch 79/100\n",
      "5346/5346 [==============================] - 0s 64us/step - loss: 0.1388 - acc: 0.9557\n",
      "Epoch 80/100\n",
      "5346/5346 [==============================] - 0s 63us/step - loss: 0.0770 - acc: 0.9856\n",
      "Epoch 81/100\n",
      "5346/5346 [==============================] - 1s 95us/step - loss: 0.0870 - acc: 0.9789\n",
      "Epoch 82/100\n"
     ]
    },
    {
     "name": "stdout",
     "output_type": "stream",
     "text": [
      "5346/5346 [==============================] - 1s 97us/step - loss: 0.0816 - acc: 0.9817\n",
      "Epoch 83/100\n",
      "5346/5346 [==============================] - 0s 93us/step - loss: 0.0961 - acc: 0.9716\n",
      "Epoch 84/100\n",
      "5346/5346 [==============================] - 0s 70us/step - loss: 0.0719 - acc: 0.9845\n",
      "Epoch 85/100\n",
      "5346/5346 [==============================] - 0s 61us/step - loss: 0.0655 - acc: 0.9869\n",
      "Epoch 86/100\n",
      "5346/5346 [==============================] - 0s 74us/step - loss: 0.0580 - acc: 0.9886\n",
      "Epoch 87/100\n",
      "5346/5346 [==============================] - 0s 65us/step - loss: 0.0960 - acc: 0.9704\n",
      "Epoch 88/100\n",
      "5346/5346 [==============================] - 0s 64us/step - loss: 0.1052 - acc: 0.9611\n",
      "Epoch 89/100\n",
      "5346/5346 [==============================] - 0s 81us/step - loss: 0.1127 - acc: 0.9615\n",
      "Epoch 90/100\n",
      "5346/5346 [==============================] - 0s 66us/step - loss: 0.0522 - acc: 0.9906\n",
      "Epoch 91/100\n",
      "5346/5346 [==============================] - 0s 61us/step - loss: 0.0450 - acc: 0.9910\n",
      "Epoch 92/100\n",
      "5346/5346 [==============================] - 0s 61us/step - loss: 0.0407 - acc: 0.9938\n",
      "Epoch 93/100\n",
      "5346/5346 [==============================] - 0s 64us/step - loss: 0.0368 - acc: 0.9955\n",
      "Epoch 94/100\n",
      "5346/5346 [==============================] - 0s 61us/step - loss: 0.0368 - acc: 0.9953\n",
      "Epoch 95/100\n",
      "5346/5346 [==============================] - 0s 61us/step - loss: 0.1911 - acc: 0.9300\n",
      "Epoch 96/100\n",
      "5346/5346 [==============================] - 0s 63us/step - loss: 0.1255 - acc: 0.9527\n",
      "Epoch 97/100\n",
      "5346/5346 [==============================] - 0s 61us/step - loss: 0.1175 - acc: 0.9594\n",
      "Epoch 98/100\n",
      "5346/5346 [==============================] - 0s 66us/step - loss: 0.0282 - acc: 0.9972\n",
      "Epoch 99/100\n",
      "5346/5346 [==============================] - 0s 76us/step - loss: 0.0246 - acc: 0.9985\n",
      "Epoch 100/100\n",
      "5346/5346 [==============================] - 0s 68us/step - loss: 0.0203 - acc: 0.9983\n"
     ]
    }
   ],
   "source": [
    "history = model.fit(X_train, y_train, epochs=100);"
   ]
  },
  {
   "cell_type": "code",
   "execution_count": 22,
   "metadata": {},
   "outputs": [
    {
     "data": {
      "image/png": "[encoded data removed]",
      "text/plain": [
       "<Figure size 432x288 with 1 Axes>"
      ]
     },
     "metadata": {},
     "output_type": "display_data"
    },
    {
     "data": {
      "image/png": "[encoded data removed]",
      "text/plain": [
       "<Figure size 432x288 with 1 Axes>"
      ]
     },
     "metadata": {},
     "output_type": "display_data"
    }
   ],
   "source": [
    "#accuracy history\n",
    "plt.plot(history.history['acc'])\n",
    "plt.title('model accuracy')\n",
    "plt.ylabel('accuracy')\n",
    "plt.xlabel('epoch')\n",
    "plt.legend(['train'], loc='upper left')\n",
    "plt.show()\n",
    "#loss history\n",
    "plt.plot(history.history['loss'])\n",
    "plt.title('model loss')\n",
    "plt.ylabel('loss')\n",
    "plt.xlabel('epoch')\n",
    "plt.legend(['train'], loc='upper left')\n",
    "plt.show()"
   ]
  },
  {
   "cell_type": "code",
   "execution_count": 23,
   "metadata": {},
   "outputs": [
    {
     "name": "stdout",
     "output_type": "stream",
     "text": [
      "2634/2634 [==============================] - 0s 59us/step\n",
      "Test Score: 3.404322982105959\n",
      "Test Accuracy: 0.582004555853914\n"
     ]
    }
   ],
   "source": [
    "score = model.evaluate(X_test, y_test, verbose=1)\n",
    "print(\"Test Score:\", score[0])\n",
    "print(\"Test Accuracy:\", score[1])"
   ]
  },
  {
   "cell_type": "markdown",
   "metadata": {},
   "source": [
    "Test Accuracy is not good. One of the possible reason is overfitting of the trianing set."
   ]
  },
  {
   "cell_type": "markdown",
   "metadata": {},
   "source": [
    "# Future work:\n",
    "\n",
    "1. Try to improve the accuracy of the model\n",
    "2. Calculate the total points for this season \n",
    "3. Hosting this model in the Heruko App"
   ]
  },
  {
   "cell_type": "code",
   "execution_count": null,
   "metadata": {},
   "outputs": [],
   "source": []
  }
 ],
 "metadata": {
  "kernelspec": {
   "display_name": "Python 3",
   "language": "python",
   "name": "python3"
  },
  "language_info": {
   "codemirror_mode": {
    "name": "ipython",
    "version": 3
   },
   "file_extension": ".py",
   "mimetype": "text/x-python",
   "name": "python",
   "nbconvert_exporter": "python",
   "pygments_lexer": "ipython3",
   "version": "3.6.8"
  }
 },
 "nbformat": 4,
 "nbformat_minor": 2
}
